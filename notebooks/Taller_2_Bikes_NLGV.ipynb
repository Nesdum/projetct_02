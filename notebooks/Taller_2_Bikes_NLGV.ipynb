{
 "cells": [
  {
   "cell_type": "markdown",
   "id": "3f1184f0",
   "metadata": {
    "id": "3f1184f0"
   },
   "source": [
    "## Libraries"
   ]
  },
  {
   "cell_type": "code",
   "execution_count": 36,
   "id": "d8747595",
   "metadata": {
    "executionInfo": {
     "elapsed": 1291,
     "status": "ok",
     "timestamp": 1745791818205,
     "user": {
      "displayName": "John Castellanos",
      "userId": "16506623675762824328"
     },
     "user_tz": 300
    },
    "id": "d8747595"
   },
   "outputs": [],
   "source": [
    "import pandas as pd\n",
    "import numpy as np"
   ]
  },
  {
   "cell_type": "markdown",
   "id": "d3f63d6c",
   "metadata": {
    "id": "d3f63d6c"
   },
   "source": [
    "## Read the File:"
   ]
  },
  {
   "cell_type": "code",
   "execution_count": 37,
   "id": "7dd31ad4",
   "metadata": {
    "colab": {
     "base_uri": "https://localhost:8080/",
     "height": 206
    },
    "executionInfo": {
     "elapsed": 207,
     "status": "ok",
     "timestamp": 1745791833867,
     "user": {
      "displayName": "John Castellanos",
      "userId": "16506623675762824328"
     },
     "user_tz": 300
    },
    "id": "7dd31ad4",
    "outputId": "586e6983-8a18-4408-8d22-a4e394155084"
   },
   "outputs": [
    {
     "data": {
      "text/html": [
       "<div>\n",
       "<style scoped>\n",
       "    .dataframe tbody tr th:only-of-type {\n",
       "        vertical-align: middle;\n",
       "    }\n",
       "\n",
       "    .dataframe tbody tr th {\n",
       "        vertical-align: top;\n",
       "    }\n",
       "\n",
       "    .dataframe thead th {\n",
       "        text-align: right;\n",
       "    }\n",
       "</style>\n",
       "<table border=\"1\" class=\"dataframe\">\n",
       "  <thead>\n",
       "    <tr style=\"text-align: right;\">\n",
       "      <th></th>\n",
       "      <th>datetime</th>\n",
       "      <th>season</th>\n",
       "      <th>holiday</th>\n",
       "      <th>workingday</th>\n",
       "      <th>weather</th>\n",
       "      <th>temp</th>\n",
       "      <th>atemp</th>\n",
       "      <th>humidity</th>\n",
       "      <th>windspeed</th>\n",
       "      <th>casual</th>\n",
       "      <th>registered</th>\n",
       "      <th>count</th>\n",
       "    </tr>\n",
       "  </thead>\n",
       "  <tbody>\n",
       "    <tr>\n",
       "      <th>0</th>\n",
       "      <td>2011-01-01 00:00:00</td>\n",
       "      <td>1</td>\n",
       "      <td>0</td>\n",
       "      <td>0</td>\n",
       "      <td>1</td>\n",
       "      <td>9.84</td>\n",
       "      <td>14.395</td>\n",
       "      <td>81</td>\n",
       "      <td>0.0</td>\n",
       "      <td>3</td>\n",
       "      <td>13</td>\n",
       "      <td>16</td>\n",
       "    </tr>\n",
       "    <tr>\n",
       "      <th>1</th>\n",
       "      <td>2011-01-01 01:00:00</td>\n",
       "      <td>1</td>\n",
       "      <td>0</td>\n",
       "      <td>0</td>\n",
       "      <td>1</td>\n",
       "      <td>9.02</td>\n",
       "      <td>13.635</td>\n",
       "      <td>80</td>\n",
       "      <td>0.0</td>\n",
       "      <td>8</td>\n",
       "      <td>32</td>\n",
       "      <td>40</td>\n",
       "    </tr>\n",
       "    <tr>\n",
       "      <th>2</th>\n",
       "      <td>2011-01-01 02:00:00</td>\n",
       "      <td>1</td>\n",
       "      <td>0</td>\n",
       "      <td>0</td>\n",
       "      <td>1</td>\n",
       "      <td>9.02</td>\n",
       "      <td>13.635</td>\n",
       "      <td>80</td>\n",
       "      <td>0.0</td>\n",
       "      <td>5</td>\n",
       "      <td>27</td>\n",
       "      <td>32</td>\n",
       "    </tr>\n",
       "    <tr>\n",
       "      <th>3</th>\n",
       "      <td>2011-01-01 03:00:00</td>\n",
       "      <td>1</td>\n",
       "      <td>0</td>\n",
       "      <td>0</td>\n",
       "      <td>1</td>\n",
       "      <td>9.84</td>\n",
       "      <td>14.395</td>\n",
       "      <td>75</td>\n",
       "      <td>0.0</td>\n",
       "      <td>3</td>\n",
       "      <td>10</td>\n",
       "      <td>13</td>\n",
       "    </tr>\n",
       "    <tr>\n",
       "      <th>4</th>\n",
       "      <td>2011-01-01 04:00:00</td>\n",
       "      <td>1</td>\n",
       "      <td>0</td>\n",
       "      <td>0</td>\n",
       "      <td>1</td>\n",
       "      <td>9.84</td>\n",
       "      <td>14.395</td>\n",
       "      <td>75</td>\n",
       "      <td>0.0</td>\n",
       "      <td>0</td>\n",
       "      <td>1</td>\n",
       "      <td>1</td>\n",
       "    </tr>\n",
       "  </tbody>\n",
       "</table>\n",
       "</div>"
      ],
      "text/plain": [
       "              datetime  season  holiday  workingday  weather  temp   atemp  \\\n",
       "0  2011-01-01 00:00:00       1        0           0        1  9.84  14.395   \n",
       "1  2011-01-01 01:00:00       1        0           0        1  9.02  13.635   \n",
       "2  2011-01-01 02:00:00       1        0           0        1  9.02  13.635   \n",
       "3  2011-01-01 03:00:00       1        0           0        1  9.84  14.395   \n",
       "4  2011-01-01 04:00:00       1        0           0        1  9.84  14.395   \n",
       "\n",
       "   humidity  windspeed  casual  registered  count  \n",
       "0        81        0.0       3          13     16  \n",
       "1        80        0.0       8          32     40  \n",
       "2        80        0.0       5          27     32  \n",
       "3        75        0.0       3          10     13  \n",
       "4        75        0.0       0           1      1  "
      ]
     },
     "execution_count": 37,
     "metadata": {},
     "output_type": "execute_result"
    }
   ],
   "source": [
    "data = pd.read_csv(\"C:/Users/ACER/OneDrive/Documentos/Analitica de datos/1. Maestria/2. Electiva II Mlops/Mlops/projetct_02/data/train.csv\")\n",
    "data.head()"
   ]
  },
  {
   "cell_type": "markdown",
   "id": "74e8932f",
   "metadata": {
    "id": "74e8932f"
   },
   "source": [
    "## DATA CLEANNING"
   ]
  },
  {
   "cell_type": "code",
   "execution_count": 38,
   "id": "ad4f1b8f",
   "metadata": {
    "colab": {
     "base_uri": "https://localhost:8080/"
    },
    "executionInfo": {
     "elapsed": 22,
     "status": "ok",
     "timestamp": 1745791840920,
     "user": {
      "displayName": "John Castellanos",
      "userId": "16506623675762824328"
     },
     "user_tz": 300
    },
    "id": "ad4f1b8f",
    "outputId": "895ec3ee-0b9f-4183-9277-9e886b5e252d"
   },
   "outputs": [
    {
     "name": "stdout",
     "output_type": "stream",
     "text": [
      "Missing values in each column:\n",
      "datetime      0\n",
      "season        0\n",
      "holiday       0\n",
      "workingday    0\n",
      "weather       0\n",
      "temp          0\n",
      "atemp         0\n",
      "humidity      0\n",
      "windspeed     0\n",
      "casual        0\n",
      "registered    0\n",
      "count         0\n",
      "dtype: int64\n"
     ]
    }
   ],
   "source": [
    "# Check for missing values in the dataset\n",
    "missing_values = data.isnull().sum()\n",
    "print(\"Missing values in each column:\")\n",
    "print(missing_values)"
   ]
  },
  {
   "cell_type": "code",
   "execution_count": 39,
   "id": "bea638fa",
   "metadata": {
    "executionInfo": {
     "elapsed": 61,
     "status": "ok",
     "timestamp": 1745791845668,
     "user": {
      "displayName": "John Castellanos",
      "userId": "16506623675762824328"
     },
     "user_tz": 300
    },
    "id": "bea638fa"
   },
   "outputs": [],
   "source": [
    "import matplotlib.pyplot as plt"
   ]
  },
  {
   "cell_type": "code",
   "execution_count": 40,
   "id": "a8b4ddbc",
   "metadata": {
    "colab": {
     "base_uri": "https://localhost:8080/",
     "height": 452
    },
    "executionInfo": {
     "elapsed": 354,
     "status": "ok",
     "timestamp": 1745791847463,
     "user": {
      "displayName": "John Castellanos",
      "userId": "16506623675762824328"
     },
     "user_tz": 300
    },
    "id": "a8b4ddbc",
    "outputId": "16d20d23-9b10-4d33-8d14-3b0b3b595645"
   },
   "outputs": [
    {
     "data": {
      "image/png": "[encoded data removed]",
      "text/plain": [
       "<Figure size 640x480 with 1 Axes>"
      ]
     },
     "metadata": {},
     "output_type": "display_data"
    }
   ],
   "source": [
    "# Boxplot of the target variable 'wind_speed'\n",
    "plt.boxplot(data['windspeed'])\n",
    "plt.title('Outliers of Wind Speed')\n",
    "plt.ylabel('Wind Speed')\n",
    "plt.show()"
   ]
  },
  {
   "cell_type": "code",
   "execution_count": 41,
   "id": "e7692ba7",
   "metadata": {
    "executionInfo": {
     "elapsed": 18,
     "status": "ok",
     "timestamp": 1745791852795,
     "user": {
      "displayName": "John Castellanos",
      "userId": "16506623675762824328"
     },
     "user_tz": 300
    },
    "id": "e7692ba7"
   },
   "outputs": [],
   "source": [
    "## REMOVE ROWS WITH NEGATIVE OR ERRONEOUS VALUES:\n",
    "data = data[data['windspeed'] >= 0]"
   ]
  },
  {
   "cell_type": "code",
   "execution_count": 42,
   "id": "aa1f1ef3",
   "metadata": {
    "executionInfo": {
     "elapsed": 37,
     "status": "ok",
     "timestamp": 1745791853984,
     "user": {
      "displayName": "John Castellanos",
      "userId": "16506623675762824328"
     },
     "user_tz": 300
    },
    "id": "aa1f1ef3"
   },
   "outputs": [],
   "source": [
    "## CANVERT \"DATETIME\" TO DATETIME OBJECTS:\n",
    "data['datetime'] = pd.to_datetime(data['datetime'])"
   ]
  },
  {
   "cell_type": "code",
   "execution_count": 43,
   "id": "e68112ae",
   "metadata": {
    "executionInfo": {
     "elapsed": 26,
     "status": "ok",
     "timestamp": 1745791855317,
     "user": {
      "displayName": "John Castellanos",
      "userId": "16506623675762824328"
     },
     "user_tz": 300
    },
    "id": "e68112ae"
   },
   "outputs": [],
   "source": [
    "data['hour'] = data['datetime'].dt.hour\n",
    "data['day_of_week'] = data['datetime'].dt.dayofweek\n",
    "data['month'] = data['datetime'].dt.month"
   ]
  },
  {
   "cell_type": "code",
   "execution_count": 44,
   "id": "a71f8bc9",
   "metadata": {
    "executionInfo": {
     "elapsed": 27,
     "status": "ok",
     "timestamp": 1745791856542,
     "user": {
      "displayName": "John Castellanos",
      "userId": "16506623675762824328"
     },
     "user_tz": 300
    },
    "id": "a71f8bc9"
   },
   "outputs": [],
   "source": [
    "## CREATE BINARY WEaTHER VARIABLES:\n",
    "data['is_clear_weather'] = (data['weather'] == 1).astype(int)\n",
    "data['is_rainy_weather'] = (data['weather'] >= 3).astype(int)"
   ]
  },
  {
   "cell_type": "code",
   "execution_count": 45,
   "id": "e01b228e",
   "metadata": {
    "executionInfo": {
     "elapsed": 7,
     "status": "ok",
     "timestamp": 1745791857698,
     "user": {
      "displayName": "John Castellanos",
      "userId": "16506623675762824328"
     },
     "user_tz": 300
    },
    "id": "e01b228e"
   },
   "outputs": [],
   "source": [
    "## CREATE A COMBINED FEATURE FOR HOLIDAYS AND WORKING DAYS:\n",
    "data['is_holiday'] = ((data['holiday'] == 1) & (data['workingday'] == 0))"
   ]
  },
  {
   "cell_type": "code",
   "execution_count": 46,
   "id": "ca1e4cad",
   "metadata": {
    "executionInfo": {
     "elapsed": 27,
     "status": "ok",
     "timestamp": 1745791858872,
     "user": {
      "displayName": "John Castellanos",
      "userId": "16506623675762824328"
     },
     "user_tz": 300
    },
    "id": "ca1e4cad"
   },
   "outputs": [],
   "source": [
    "## DROP IRRELEVANT COLUMNS:\n",
    "data.drop(columns = ['datetime'], inplace=True)"
   ]
  },
  {
   "cell_type": "markdown",
   "id": "67deaaf2",
   "metadata": {
    "id": "67deaaf2"
   },
   "source": [
    "## TRAINING AND TESTING SPLIT:"
   ]
  },
  {
   "cell_type": "code",
   "execution_count": 47,
   "id": "89b6516a",
   "metadata": {
    "executionInfo": {
     "elapsed": 893,
     "status": "ok",
     "timestamp": 1745791865053,
     "user": {
      "displayName": "John Castellanos",
      "userId": "16506623675762824328"
     },
     "user_tz": 300
    },
    "id": "89b6516a"
   },
   "outputs": [],
   "source": [
    "from sklearn.model_selection import train_test_split"
   ]
  },
  {
   "cell_type": "code",
   "execution_count": 48,
   "id": "4940f7b3",
   "metadata": {
    "executionInfo": {
     "elapsed": 31,
     "status": "ok",
     "timestamp": 1745791866127,
     "user": {
      "displayName": "John Castellanos",
      "userId": "16506623675762824328"
     },
     "user_tz": 300
    },
    "id": "4940f7b3"
   },
   "outputs": [],
   "source": [
    "## SPLIT THE DATA INTO FEATURES AND TARGET VARIABLE:\n",
    "X = data.drop(columns=['count']) # Features (all columns except 'count')\n",
    "y = data['count'] # Target variable (the 'count' column)"
   ]
  },
  {
   "cell_type": "code",
   "execution_count": 16,
   "id": "f274821a",
   "metadata": {
    "colab": {
     "base_uri": "https://localhost:8080/"
    },
    "executionInfo": {
     "elapsed": 18,
     "status": "ok",
     "timestamp": 1745791869430,
     "user": {
      "displayName": "John Castellanos",
      "userId": "16506623675762824328"
     },
     "user_tz": 300
    },
    "id": "f274821a",
    "outputId": "fcaa4127-3719-426f-db0d-726173f66d90"
   },
   "outputs": [
    {
     "name": "stdout",
     "output_type": "stream",
     "text": [
      "training data size: (8708, 16)\n",
      "test data size: (2178, 16)\n"
     ]
    }
   ],
   "source": [
    "## PERFORM AN 80-20 TRAIN TEST SPLIT:\n",
    "X_train, X_test, y_train, y_test = train_test_split(X, y, test_size=0.2, random_state=42)\n",
    "\n",
    "## CHECK THE SHAPE OF THE TRAINING AND TEST SETS:\n",
    "print(f\"training data size: {X_train.shape}\")\n",
    "print(f\"test data size: {X_test.shape}\")"
   ]
  },
  {
   "cell_type": "markdown",
   "id": "be2efafc",
   "metadata": {
    "id": "be2efafc"
   },
   "source": [
    "## MODEL CHOISE:"
   ]
  },
  {
   "cell_type": "code",
   "execution_count": 17,
   "id": "Z0tsBHY0PORL",
   "metadata": {
    "colab": {
     "base_uri": "https://localhost:8080/"
    },
    "collapsed": true,
    "executionInfo": {
     "elapsed": 13907,
     "status": "ok",
     "timestamp": 1745791888549,
     "user": {
      "displayName": "John Castellanos",
      "userId": "16506623675762824328"
     },
     "user_tz": 300
    },
    "id": "Z0tsBHY0PORL",
    "outputId": "41827d3a-b396-471d-ac5b-ec5573613130"
   },
   "outputs": [
    {
     "name": "stdout",
     "output_type": "stream",
     "text": [
      "Requirement already satisfied: mlflow in c:\\users\\acer\\onedrive\\documentos\\analitica de datos\\1. maestria\\2. electiva ii mlops\\mlops\\projetct_02\\env\\lib\\site-packages (2.22.0)\n",
      "Requirement already satisfied: mlflow-skinny==2.22.0 in c:\\users\\acer\\onedrive\\documentos\\analitica de datos\\1. maestria\\2. electiva ii mlops\\mlops\\projetct_02\\env\\lib\\site-packages (from mlflow) (2.22.0)\n",
      "Requirement already satisfied: Flask<4 in c:\\users\\acer\\onedrive\\documentos\\analitica de datos\\1. maestria\\2. electiva ii mlops\\mlops\\projetct_02\\env\\lib\\site-packages (from mlflow) (3.1.0)\n",
      "Requirement already satisfied: Jinja2<4,>=3.0 in c:\\users\\acer\\onedrive\\documentos\\analitica de datos\\1. maestria\\2. electiva ii mlops\\mlops\\projetct_02\\env\\lib\\site-packages (from mlflow) (3.1.6)\n",
      "Requirement already satisfied: alembic!=1.10.0,<2 in c:\\users\\acer\\onedrive\\documentos\\analitica de datos\\1. maestria\\2. electiva ii mlops\\mlops\\projetct_02\\env\\lib\\site-packages (from mlflow) (1.15.2)\n",
      "Requirement already satisfied: docker<8,>=4.0.0 in c:\\users\\acer\\onedrive\\documentos\\analitica de datos\\1. maestria\\2. electiva ii mlops\\mlops\\projetct_02\\env\\lib\\site-packages (from mlflow) (7.1.0)\n",
      "Requirement already satisfied: graphene<4 in c:\\users\\acer\\onedrive\\documentos\\analitica de datos\\1. maestria\\2. electiva ii mlops\\mlops\\projetct_02\\env\\lib\\site-packages (from mlflow) (3.4.3)\n",
      "Requirement already satisfied: markdown<4,>=3.3 in c:\\users\\acer\\onedrive\\documentos\\analitica de datos\\1. maestria\\2. electiva ii mlops\\mlops\\projetct_02\\env\\lib\\site-packages (from mlflow) (3.8)\n",
      "Requirement already satisfied: matplotlib<4 in c:\\users\\acer\\onedrive\\documentos\\analitica de datos\\1. maestria\\2. electiva ii mlops\\mlops\\projetct_02\\env\\lib\\site-packages (from mlflow) (3.10.1)\n",
      "Requirement already satisfied: numpy<3 in c:\\users\\acer\\onedrive\\documentos\\analitica de datos\\1. maestria\\2. electiva ii mlops\\mlops\\projetct_02\\env\\lib\\site-packages (from mlflow) (2.2.5)\n",
      "Requirement already satisfied: pandas<3 in c:\\users\\acer\\onedrive\\documentos\\analitica de datos\\1. maestria\\2. electiva ii mlops\\mlops\\projetct_02\\env\\lib\\site-packages (from mlflow) (2.2.3)\n",
      "Requirement already satisfied: pyarrow<20,>=4.0.0 in c:\\users\\acer\\onedrive\\documentos\\analitica de datos\\1. maestria\\2. electiva ii mlops\\mlops\\projetct_02\\env\\lib\\site-packages (from mlflow) (19.0.1)\n",
      "Requirement already satisfied: scikit-learn<2 in c:\\users\\acer\\onedrive\\documentos\\analitica de datos\\1. maestria\\2. electiva ii mlops\\mlops\\projetct_02\\env\\lib\\site-packages (from mlflow) (1.6.1)\n",
      "Requirement already satisfied: scipy<2 in c:\\users\\acer\\onedrive\\documentos\\analitica de datos\\1. maestria\\2. electiva ii mlops\\mlops\\projetct_02\\env\\lib\\site-packages (from mlflow) (1.15.2)\n",
      "Requirement already satisfied: sqlalchemy<3,>=1.4.0 in c:\\users\\acer\\onedrive\\documentos\\analitica de datos\\1. maestria\\2. electiva ii mlops\\mlops\\projetct_02\\env\\lib\\site-packages (from mlflow) (2.0.40)\n",
      "Requirement already satisfied: waitress<4 in c:\\users\\acer\\onedrive\\documentos\\analitica de datos\\1. maestria\\2. electiva ii mlops\\mlops\\projetct_02\\env\\lib\\site-packages (from mlflow) (3.0.2)\n",
      "Requirement already satisfied: cachetools<6,>=5.0.0 in c:\\users\\acer\\onedrive\\documentos\\analitica de datos\\1. maestria\\2. electiva ii mlops\\mlops\\projetct_02\\env\\lib\\site-packages (from mlflow-skinny==2.22.0->mlflow) (5.5.2)\n",
      "Requirement already satisfied: click<9,>=7.0 in c:\\users\\acer\\onedrive\\documentos\\analitica de datos\\1. maestria\\2. electiva ii mlops\\mlops\\projetct_02\\env\\lib\\site-packages (from mlflow-skinny==2.22.0->mlflow) (8.1.8)\n",
      "Requirement already satisfied: cloudpickle<4 in c:\\users\\acer\\onedrive\\documentos\\analitica de datos\\1. maestria\\2. electiva ii mlops\\mlops\\projetct_02\\env\\lib\\site-packages (from mlflow-skinny==2.22.0->mlflow) (3.1.1)\n",
      "Requirement already satisfied: databricks-sdk<1,>=0.20.0 in c:\\users\\acer\\onedrive\\documentos\\analitica de datos\\1. maestria\\2. electiva ii mlops\\mlops\\projetct_02\\env\\lib\\site-packages (from mlflow-skinny==2.22.0->mlflow) (0.50.0)\n",
      "Requirement already satisfied: fastapi<1 in c:\\users\\acer\\onedrive\\documentos\\analitica de datos\\1. maestria\\2. electiva ii mlops\\mlops\\projetct_02\\env\\lib\\site-packages (from mlflow-skinny==2.22.0->mlflow) (0.115.12)\n",
      "Requirement already satisfied: gitpython<4,>=3.1.9 in c:\\users\\acer\\onedrive\\documentos\\analitica de datos\\1. maestria\\2. electiva ii mlops\\mlops\\projetct_02\\env\\lib\\site-packages (from mlflow-skinny==2.22.0->mlflow) (3.1.44)\n",
      "Requirement already satisfied: importlib_metadata!=4.7.0,<9,>=3.7.0 in c:\\users\\acer\\onedrive\\documentos\\analitica de datos\\1. maestria\\2. electiva ii mlops\\mlops\\projetct_02\\env\\lib\\site-packages (from mlflow-skinny==2.22.0->mlflow) (8.6.1)\n",
      "Requirement already satisfied: opentelemetry-api<3,>=1.9.0 in c:\\users\\acer\\onedrive\\documentos\\analitica de datos\\1. maestria\\2. electiva ii mlops\\mlops\\projetct_02\\env\\lib\\site-packages (from mlflow-skinny==2.22.0->mlflow) (1.32.1)\n",
      "Requirement already satisfied: opentelemetry-sdk<3,>=1.9.0 in c:\\users\\acer\\onedrive\\documentos\\analitica de datos\\1. maestria\\2. electiva ii mlops\\mlops\\projetct_02\\env\\lib\\site-packages (from mlflow-skinny==2.22.0->mlflow) (1.32.1)\n",
      "Requirement already satisfied: packaging<25 in c:\\users\\acer\\onedrive\\documentos\\analitica de datos\\1. maestria\\2. electiva ii mlops\\mlops\\projetct_02\\env\\lib\\site-packages (from mlflow-skinny==2.22.0->mlflow) (24.2)\n",
      "Requirement already satisfied: protobuf<7,>=3.12.0 in c:\\users\\acer\\onedrive\\documentos\\analitica de datos\\1. maestria\\2. electiva ii mlops\\mlops\\projetct_02\\env\\lib\\site-packages (from mlflow-skinny==2.22.0->mlflow) (6.30.2)\n",
      "Requirement already satisfied: pydantic<3,>=1.10.8 in c:\\users\\acer\\onedrive\\documentos\\analitica de datos\\1. maestria\\2. electiva ii mlops\\mlops\\projetct_02\\env\\lib\\site-packages (from mlflow-skinny==2.22.0->mlflow) (2.11.3)\n",
      "Requirement already satisfied: pyyaml<7,>=5.1 in c:\\users\\acer\\onedrive\\documentos\\analitica de datos\\1. maestria\\2. electiva ii mlops\\mlops\\projetct_02\\env\\lib\\site-packages (from mlflow-skinny==2.22.0->mlflow) (6.0.2)\n",
      "Requirement already satisfied: requests<3,>=2.17.3 in c:\\users\\acer\\onedrive\\documentos\\analitica de datos\\1. maestria\\2. electiva ii mlops\\mlops\\projetct_02\\env\\lib\\site-packages (from mlflow-skinny==2.22.0->mlflow) (2.32.3)\n",
      "Requirement already satisfied: sqlparse<1,>=0.4.0 in c:\\users\\acer\\onedrive\\documentos\\analitica de datos\\1. maestria\\2. electiva ii mlops\\mlops\\projetct_02\\env\\lib\\site-packages (from mlflow-skinny==2.22.0->mlflow) (0.5.3)\n",
      "Requirement already satisfied: typing-extensions<5,>=4.0.0 in c:\\users\\acer\\onedrive\\documentos\\analitica de datos\\1. maestria\\2. electiva ii mlops\\mlops\\projetct_02\\env\\lib\\site-packages (from mlflow-skinny==2.22.0->mlflow) (4.13.2)\n",
      "Requirement already satisfied: uvicorn<1 in c:\\users\\acer\\onedrive\\documentos\\analitica de datos\\1. maestria\\2. electiva ii mlops\\mlops\\projetct_02\\env\\lib\\site-packages (from mlflow-skinny==2.22.0->mlflow) (0.34.2)\n",
      "Requirement already satisfied: Mako in c:\\users\\acer\\onedrive\\documentos\\analitica de datos\\1. maestria\\2. electiva ii mlops\\mlops\\projetct_02\\env\\lib\\site-packages (from alembic!=1.10.0,<2->mlflow) (1.3.10)\n",
      "Requirement already satisfied: colorama in c:\\users\\acer\\onedrive\\documentos\\analitica de datos\\1. maestria\\2. electiva ii mlops\\mlops\\projetct_02\\env\\lib\\site-packages (from click<9,>=7.0->mlflow-skinny==2.22.0->mlflow) (0.4.6)\n",
      "Requirement already satisfied: google-auth~=2.0 in c:\\users\\acer\\onedrive\\documentos\\analitica de datos\\1. maestria\\2. electiva ii mlops\\mlops\\projetct_02\\env\\lib\\site-packages (from databricks-sdk<1,>=0.20.0->mlflow-skinny==2.22.0->mlflow) (2.39.0)\n",
      "Requirement already satisfied: pywin32>=304 in c:\\users\\acer\\onedrive\\documentos\\analitica de datos\\1. maestria\\2. electiva ii mlops\\mlops\\projetct_02\\env\\lib\\site-packages (from docker<8,>=4.0.0->mlflow) (310)\n",
      "Requirement already satisfied: urllib3>=1.26.0 in c:\\users\\acer\\onedrive\\documentos\\analitica de datos\\1. maestria\\2. electiva ii mlops\\mlops\\projetct_02\\env\\lib\\site-packages (from docker<8,>=4.0.0->mlflow) (2.4.0)\n",
      "Requirement already satisfied: starlette<0.47.0,>=0.40.0 in c:\\users\\acer\\onedrive\\documentos\\analitica de datos\\1. maestria\\2. electiva ii mlops\\mlops\\projetct_02\\env\\lib\\site-packages (from fastapi<1->mlflow-skinny==2.22.0->mlflow) (0.46.2)\n",
      "Requirement already satisfied: Werkzeug>=3.1 in c:\\users\\acer\\onedrive\\documentos\\analitica de datos\\1. maestria\\2. electiva ii mlops\\mlops\\projetct_02\\env\\lib\\site-packages (from Flask<4->mlflow) (3.1.3)\n",
      "Requirement already satisfied: itsdangerous>=2.2 in c:\\users\\acer\\onedrive\\documentos\\analitica de datos\\1. maestria\\2. electiva ii mlops\\mlops\\projetct_02\\env\\lib\\site-packages (from Flask<4->mlflow) (2.2.0)\n",
      "Requirement already satisfied: blinker>=1.9 in c:\\users\\acer\\onedrive\\documentos\\analitica de datos\\1. maestria\\2. electiva ii mlops\\mlops\\projetct_02\\env\\lib\\site-packages (from Flask<4->mlflow) (1.9.0)\n",
      "Requirement already satisfied: gitdb<5,>=4.0.1 in c:\\users\\acer\\onedrive\\documentos\\analitica de datos\\1. maestria\\2. electiva ii mlops\\mlops\\projetct_02\\env\\lib\\site-packages (from gitpython<4,>=3.1.9->mlflow-skinny==2.22.0->mlflow) (4.0.12)\n",
      "Requirement already satisfied: smmap<6,>=3.0.1 in c:\\users\\acer\\onedrive\\documentos\\analitica de datos\\1. maestria\\2. electiva ii mlops\\mlops\\projetct_02\\env\\lib\\site-packages (from gitdb<5,>=4.0.1->gitpython<4,>=3.1.9->mlflow-skinny==2.22.0->mlflow) (5.0.2)\n",
      "Requirement already satisfied: pyasn1-modules>=0.2.1 in c:\\users\\acer\\onedrive\\documentos\\analitica de datos\\1. maestria\\2. electiva ii mlops\\mlops\\projetct_02\\env\\lib\\site-packages (from google-auth~=2.0->databricks-sdk<1,>=0.20.0->mlflow-skinny==2.22.0->mlflow) (0.4.2)\n",
      "Requirement already satisfied: rsa<5,>=3.1.4 in c:\\users\\acer\\onedrive\\documentos\\analitica de datos\\1. maestria\\2. electiva ii mlops\\mlops\\projetct_02\\env\\lib\\site-packages (from google-auth~=2.0->databricks-sdk<1,>=0.20.0->mlflow-skinny==2.22.0->mlflow) (4.9.1)\n",
      "Requirement already satisfied: graphql-core<3.3,>=3.1 in c:\\users\\acer\\onedrive\\documentos\\analitica de datos\\1. maestria\\2. electiva ii mlops\\mlops\\projetct_02\\env\\lib\\site-packages (from graphene<4->mlflow) (3.2.6)\n",
      "Requirement already satisfied: graphql-relay<3.3,>=3.1 in c:\\users\\acer\\onedrive\\documentos\\analitica de datos\\1. maestria\\2. electiva ii mlops\\mlops\\projetct_02\\env\\lib\\site-packages (from graphene<4->mlflow) (3.2.0)\n",
      "Requirement already satisfied: python-dateutil<3,>=2.7.0 in c:\\users\\acer\\onedrive\\documentos\\analitica de datos\\1. maestria\\2. electiva ii mlops\\mlops\\projetct_02\\env\\lib\\site-packages (from graphene<4->mlflow) (2.9.0.post0)\n",
      "Requirement already satisfied: zipp>=3.20 in c:\\users\\acer\\onedrive\\documentos\\analitica de datos\\1. maestria\\2. electiva ii mlops\\mlops\\projetct_02\\env\\lib\\site-packages (from importlib_metadata!=4.7.0,<9,>=3.7.0->mlflow-skinny==2.22.0->mlflow) (3.21.0)\n",
      "Requirement already satisfied: MarkupSafe>=2.0 in c:\\users\\acer\\onedrive\\documentos\\analitica de datos\\1. maestria\\2. electiva ii mlops\\mlops\\projetct_02\\env\\lib\\site-packages (from Jinja2<4,>=3.0->mlflow) (3.0.2)\n",
      "Requirement already satisfied: contourpy>=1.0.1 in c:\\users\\acer\\onedrive\\documentos\\analitica de datos\\1. maestria\\2. electiva ii mlops\\mlops\\projetct_02\\env\\lib\\site-packages (from matplotlib<4->mlflow) (1.3.2)\n",
      "Requirement already satisfied: cycler>=0.10 in c:\\users\\acer\\onedrive\\documentos\\analitica de datos\\1. maestria\\2. electiva ii mlops\\mlops\\projetct_02\\env\\lib\\site-packages (from matplotlib<4->mlflow) (0.12.1)\n",
      "Requirement already satisfied: fonttools>=4.22.0 in c:\\users\\acer\\onedrive\\documentos\\analitica de datos\\1. maestria\\2. electiva ii mlops\\mlops\\projetct_02\\env\\lib\\site-packages (from matplotlib<4->mlflow) (4.57.0)\n",
      "Requirement already satisfied: kiwisolver>=1.3.1 in c:\\users\\acer\\onedrive\\documentos\\analitica de datos\\1. maestria\\2. electiva ii mlops\\mlops\\projetct_02\\env\\lib\\site-packages (from matplotlib<4->mlflow) (1.4.8)\n",
      "Requirement already satisfied: pillow>=8 in c:\\users\\acer\\onedrive\\documentos\\analitica de datos\\1. maestria\\2. electiva ii mlops\\mlops\\projetct_02\\env\\lib\\site-packages (from matplotlib<4->mlflow) (11.2.1)\n",
      "Requirement already satisfied: pyparsing>=2.3.1 in c:\\users\\acer\\onedrive\\documentos\\analitica de datos\\1. maestria\\2. electiva ii mlops\\mlops\\projetct_02\\env\\lib\\site-packages (from matplotlib<4->mlflow) (3.2.3)\n",
      "Requirement already satisfied: deprecated>=1.2.6 in c:\\users\\acer\\onedrive\\documentos\\analitica de datos\\1. maestria\\2. electiva ii mlops\\mlops\\projetct_02\\env\\lib\\site-packages (from opentelemetry-api<3,>=1.9.0->mlflow-skinny==2.22.0->mlflow) (1.2.18)\n",
      "Requirement already satisfied: opentelemetry-semantic-conventions==0.53b1 in c:\\users\\acer\\onedrive\\documentos\\analitica de datos\\1. maestria\\2. electiva ii mlops\\mlops\\projetct_02\\env\\lib\\site-packages (from opentelemetry-sdk<3,>=1.9.0->mlflow-skinny==2.22.0->mlflow) (0.53b1)\n",
      "Requirement already satisfied: pytz>=2020.1 in c:\\users\\acer\\onedrive\\documentos\\analitica de datos\\1. maestria\\2. electiva ii mlops\\mlops\\projetct_02\\env\\lib\\site-packages (from pandas<3->mlflow) (2025.2)\n",
      "Requirement already satisfied: tzdata>=2022.7 in c:\\users\\acer\\onedrive\\documentos\\analitica de datos\\1. maestria\\2. electiva ii mlops\\mlops\\projetct_02\\env\\lib\\site-packages (from pandas<3->mlflow) (2025.2)\n",
      "Requirement already satisfied: annotated-types>=0.6.0 in c:\\users\\acer\\onedrive\\documentos\\analitica de datos\\1. maestria\\2. electiva ii mlops\\mlops\\projetct_02\\env\\lib\\site-packages (from pydantic<3,>=1.10.8->mlflow-skinny==2.22.0->mlflow) (0.7.0)\n",
      "Requirement already satisfied: pydantic-core==2.33.1 in c:\\users\\acer\\onedrive\\documentos\\analitica de datos\\1. maestria\\2. electiva ii mlops\\mlops\\projetct_02\\env\\lib\\site-packages (from pydantic<3,>=1.10.8->mlflow-skinny==2.22.0->mlflow) (2.33.1)\n",
      "Requirement already satisfied: typing-inspection>=0.4.0 in c:\\users\\acer\\onedrive\\documentos\\analitica de datos\\1. maestria\\2. electiva ii mlops\\mlops\\projetct_02\\env\\lib\\site-packages (from pydantic<3,>=1.10.8->mlflow-skinny==2.22.0->mlflow) (0.4.0)\n",
      "Requirement already satisfied: six>=1.5 in c:\\users\\acer\\onedrive\\documentos\\analitica de datos\\1. maestria\\2. electiva ii mlops\\mlops\\projetct_02\\env\\lib\\site-packages (from python-dateutil<3,>=2.7.0->graphene<4->mlflow) (1.17.0)\n",
      "Requirement already satisfied: charset-normalizer<4,>=2 in c:\\users\\acer\\onedrive\\documentos\\analitica de datos\\1. maestria\\2. electiva ii mlops\\mlops\\projetct_02\\env\\lib\\site-packages (from requests<3,>=2.17.3->mlflow-skinny==2.22.0->mlflow) (3.4.1)\n",
      "Requirement already satisfied: idna<4,>=2.5 in c:\\users\\acer\\onedrive\\documentos\\analitica de datos\\1. maestria\\2. electiva ii mlops\\mlops\\projetct_02\\env\\lib\\site-packages (from requests<3,>=2.17.3->mlflow-skinny==2.22.0->mlflow) (3.10)\n",
      "Requirement already satisfied: certifi>=2017.4.17 in c:\\users\\acer\\onedrive\\documentos\\analitica de datos\\1. maestria\\2. electiva ii mlops\\mlops\\projetct_02\\env\\lib\\site-packages (from requests<3,>=2.17.3->mlflow-skinny==2.22.0->mlflow) (2025.4.26)\n",
      "Requirement already satisfied: pyasn1>=0.1.3 in c:\\users\\acer\\onedrive\\documentos\\analitica de datos\\1. maestria\\2. electiva ii mlops\\mlops\\projetct_02\\env\\lib\\site-packages (from rsa<5,>=3.1.4->google-auth~=2.0->databricks-sdk<1,>=0.20.0->mlflow-skinny==2.22.0->mlflow) (0.6.1)\n",
      "Requirement already satisfied: joblib>=1.2.0 in c:\\users\\acer\\onedrive\\documentos\\analitica de datos\\1. maestria\\2. electiva ii mlops\\mlops\\projetct_02\\env\\lib\\site-packages (from scikit-learn<2->mlflow) (1.4.2)\n",
      "Requirement already satisfied: threadpoolctl>=3.1.0 in c:\\users\\acer\\onedrive\\documentos\\analitica de datos\\1. maestria\\2. electiva ii mlops\\mlops\\projetct_02\\env\\lib\\site-packages (from scikit-learn<2->mlflow) (3.6.0)\n",
      "Requirement already satisfied: greenlet>=1 in c:\\users\\acer\\onedrive\\documentos\\analitica de datos\\1. maestria\\2. electiva ii mlops\\mlops\\projetct_02\\env\\lib\\site-packages (from sqlalchemy<3,>=1.4.0->mlflow) (3.2.1)\n",
      "Requirement already satisfied: anyio<5,>=3.6.2 in c:\\users\\acer\\onedrive\\documentos\\analitica de datos\\1. maestria\\2. electiva ii mlops\\mlops\\projetct_02\\env\\lib\\site-packages (from starlette<0.47.0,>=0.40.0->fastapi<1->mlflow-skinny==2.22.0->mlflow) (4.9.0)\n",
      "Requirement already satisfied: sniffio>=1.1 in c:\\users\\acer\\onedrive\\documentos\\analitica de datos\\1. maestria\\2. electiva ii mlops\\mlops\\projetct_02\\env\\lib\\site-packages (from anyio<5,>=3.6.2->starlette<0.47.0,>=0.40.0->fastapi<1->mlflow-skinny==2.22.0->mlflow) (1.3.1)\n",
      "Requirement already satisfied: h11>=0.8 in c:\\users\\acer\\onedrive\\documentos\\analitica de datos\\1. maestria\\2. electiva ii mlops\\mlops\\projetct_02\\env\\lib\\site-packages (from uvicorn<1->mlflow-skinny==2.22.0->mlflow) (0.16.0)\n",
      "Requirement already satisfied: wrapt<2,>=1.10 in c:\\users\\acer\\onedrive\\documentos\\analitica de datos\\1. maestria\\2. electiva ii mlops\\mlops\\projetct_02\\env\\lib\\site-packages (from deprecated>=1.2.6->opentelemetry-api<3,>=1.9.0->mlflow-skinny==2.22.0->mlflow) (1.17.2)\n"
     ]
    }
   ],
   "source": [
    "!pip install mlflow"
   ]
  },
  {
   "cell_type": "code",
   "execution_count": 18,
   "id": "0ce2b574",
   "metadata": {
    "executionInfo": {
     "elapsed": 11512,
     "status": "ok",
     "timestamp": 1745791906502,
     "user": {
      "displayName": "John Castellanos",
      "userId": "16506623675762824328"
     },
     "user_tz": 300
    },
    "id": "0ce2b574"
   },
   "outputs": [],
   "source": [
    "import mlflow\n",
    "import mlflow.sklearn\n",
    "from sklearn.tree import DecisionTreeRegressor\n",
    "from sklearn.metrics import mean_squared_error, mean_absolute_error, r2_score\n",
    "import matplotlib.pyplot as plt\n",
    "import numpy as np"
   ]
  },
  {
   "cell_type": "code",
   "execution_count": 19,
   "id": "4efe90db",
   "metadata": {
    "colab": {
     "base_uri": "https://localhost:8080/",
     "height": 619
    },
    "executionInfo": {
     "elapsed": 8647,
     "status": "ok",
     "timestamp": 1745791917223,
     "user": {
      "displayName": "John Castellanos",
      "userId": "16506623675762824328"
     },
     "user_tz": 300
    },
    "id": "4efe90db",
    "outputId": "08ceef07-e24a-4bc9-d5be-a0e1462b3ef5"
   },
   "outputs": [
    {
     "name": "stderr",
     "output_type": "stream",
     "text": [
      "2025/04/28 20:23:15 WARNING mlflow.models.model: Model logged without a signature and input example. Please set `input_example` parameter when logging the model to auto infer the model signature.\n"
     ]
    },
    {
     "name": "stdout",
     "output_type": "stream",
     "text": [
      "Model training complete. MAE: 3.6302968771364386, RMSE: 6.941858434741431\n",
      "Model logged to MLflow.\n"
     ]
    },
    {
     "data": {
      "image/png": "[encoded data removed]",
      "text/plain": [
       "<Figure size 1000x600 with 1 Axes>"
      ]
     },
     "metadata": {},
     "output_type": "display_data"
    }
   ],
   "source": [
    "## DEFINE THE MODEL:\n",
    "model = DecisionTreeRegressor(max_depth=10, random_state=42)\n",
    "\n",
    "## STAR AN MLFLOW RUN:\n",
    "with mlflow.start_run():\n",
    "    # LOG PARAMS:\n",
    "    mlflow.log_param(\"model_type\", \"DecisionTreeRegressor\")\n",
    "    mlflow.log_param(\"max_depth\", 10)\n",
    "\n",
    "    # TRAIN THE MODEL:\n",
    "    model.fit(X_train, y_train)\n",
    "\n",
    "    # MAKE PREDICTIONS:\n",
    "    y_pred = model.predict(X_test)\n",
    "\n",
    "    # CALCULATE METRICS:\n",
    "    mae = mean_absolute_error(y_test, y_pred)\n",
    "    rmse = np.sqrt(mean_squared_error(y_test, y_pred))\n",
    "\n",
    "    #LOG METRICS EVALUATION:\n",
    "    mlflow.log_metric(\"mae\", mae)\n",
    "    mlflow.log_metric(\"rmse\", rmse)\n",
    "\n",
    "## PLOT AND LOG FEATURE IMPORTANCE AS AN ARTIFACT:\n",
    "\n",
    "    feature_importances = model.feature_importances_\n",
    "    feature_names = X_train.columns\n",
    "\n",
    "    plt.figure(figsize=(10, 6))\n",
    "    plt.barh(X_train.columns, feature_importances, color='skyblue')\n",
    "    plt.title('Feature Importances')\n",
    "    plt.savefig(\"feature_importances.png\")\n",
    "\n",
    "## LOG THE PLOT AS AN ARTIFACT:\n",
    "    mlflow.log_artifact(\"feature_importances.png\")\n",
    "\n",
    "    # LOG THE MODEL itself:\n",
    "    mlflow.sklearn.log_model(model, \"model\")\n",
    "\n",
    "print(f\"Model training complete. MAE: {mae}, RMSE: {rmse}\")\n",
    "print(\"Model logged to MLflow.\")\n",
    "# END OF THE SCRIPT"
   ]
  },
  {
   "cell_type": "markdown",
   "id": "83c5a76b",
   "metadata": {
    "id": "83c5a76b"
   },
   "source": [
    "## MLflow for hyperparameter tuning"
   ]
  },
  {
   "cell_type": "code",
   "execution_count": 34,
   "id": "b2f4ccbd",
   "metadata": {
    "executionInfo": {
     "elapsed": 40,
     "status": "ok",
     "timestamp": 1745791925263,
     "user": {
      "displayName": "John Castellanos",
      "userId": "16506623675762824328"
     },
     "user_tz": 300
    },
    "id": "b2f4ccbd"
   },
   "outputs": [],
   "source": [
    "## LIBRERIAS:\n",
    "import mlflow\n",
    "import mlflow.sklearn\n",
    "from sklearn.tree import DecisionTreeRegressor\n",
    "from sklearn.model_selection import GridSearchCV"
   ]
  },
  {
   "cell_type": "code",
   "execution_count": 35,
   "id": "7499ef13",
   "metadata": {
    "colab": {
     "base_uri": "https://localhost:8080/"
    },
    "executionInfo": {
     "elapsed": 6269,
     "status": "ok",
     "timestamp": 1745791933445,
     "user": {
      "displayName": "John Castellanos",
      "userId": "16506623675762824328"
     },
     "user_tz": 300
    },
    "id": "7499ef13",
    "outputId": "4045031d-ebe0-4153-b041-246664caa19d"
   },
   "outputs": [
    {
     "ename": "Exception",
     "evalue": "Run with UUID 2b84e51245e448f9b8f9cee3fb99d3c1 is already active. To start a new run, first end the current run with mlflow.end_run(). To start a nested run, call start_run with nested=True",
     "output_type": "error",
     "traceback": [
      "\u001b[31m---------------------------------------------------------------------------\u001b[39m",
      "\u001b[31mException\u001b[39m                                 Traceback (most recent call last)",
      "\u001b[36mCell\u001b[39m\u001b[36m \u001b[39m\u001b[32mIn[35]\u001b[39m\u001b[32m, line 10\u001b[39m\n\u001b[32m      8\u001b[39m grid_search = GridSearchCV(estimator=model, param_grid=param_grid, cv=\u001b[32m5\u001b[39m, scoring=\u001b[33m'\u001b[39m\u001b[33mneg_mean_squared_error\u001b[39m\u001b[33m'\u001b[39m, verbose=\u001b[32m1\u001b[39m)\n\u001b[32m      9\u001b[39m \u001b[38;5;66;03m# Start an MLFlow run for hyperparameter tuning\u001b[39;00m\n\u001b[32m---> \u001b[39m\u001b[32m10\u001b[39m \u001b[38;5;28;01mwith\u001b[39;00m \u001b[43mmlflow\u001b[49m\u001b[43m.\u001b[49m\u001b[43mstart_run\u001b[49m\u001b[43m(\u001b[49m\u001b[43m)\u001b[49m:\n\u001b[32m     11\u001b[39m     \u001b[38;5;66;03m# Perform grid search\u001b[39;00m\n\u001b[32m     12\u001b[39m     grid_search.fit(X_train, y_train)\n\u001b[32m     14\u001b[39m     \u001b[38;5;66;03m# Log the best hyperparameters\u001b[39;00m\n",
      "\u001b[36mFile \u001b[39m\u001b[32mc:\\Users\\ACER\\OneDrive\\Documentos\\Analitica de datos\\1. Maestria\\2. Electiva II Mlops\\Mlops\\projetct_02\\env\\Lib\\site-packages\\mlflow\\tracking\\fluent.py:351\u001b[39m, in \u001b[36mstart_run\u001b[39m\u001b[34m(run_id, experiment_id, run_name, nested, parent_run_id, tags, description, log_system_metrics)\u001b[39m\n\u001b[32m    349\u001b[39m experiment_id = \u001b[38;5;28mstr\u001b[39m(experiment_id) \u001b[38;5;28;01mif\u001b[39;00m \u001b[38;5;28misinstance\u001b[39m(experiment_id, \u001b[38;5;28mint\u001b[39m) \u001b[38;5;28;01melse\u001b[39;00m experiment_id\n\u001b[32m    350\u001b[39m \u001b[38;5;28;01mif\u001b[39;00m \u001b[38;5;28mlen\u001b[39m(active_run_stack) > \u001b[32m0\u001b[39m \u001b[38;5;129;01mand\u001b[39;00m \u001b[38;5;129;01mnot\u001b[39;00m nested:\n\u001b[32m--> \u001b[39m\u001b[32m351\u001b[39m     \u001b[38;5;28;01mraise\u001b[39;00m \u001b[38;5;167;01mException\u001b[39;00m(\n\u001b[32m    352\u001b[39m         (\n\u001b[32m    353\u001b[39m             \u001b[33m\"\u001b[39m\u001b[33mRun with UUID \u001b[39m\u001b[38;5;132;01m{}\u001b[39;00m\u001b[33m is already active. To start a new run, first end the \u001b[39m\u001b[33m\"\u001b[39m\n\u001b[32m    354\u001b[39m             + \u001b[33m\"\u001b[39m\u001b[33mcurrent run with mlflow.end_run(). To start a nested \u001b[39m\u001b[33m\"\u001b[39m\n\u001b[32m    355\u001b[39m             + \u001b[33m\"\u001b[39m\u001b[33mrun, call start_run with nested=True\u001b[39m\u001b[33m\"\u001b[39m\n\u001b[32m    356\u001b[39m         ).format(active_run_stack[\u001b[32m0\u001b[39m].info.run_id)\n\u001b[32m    357\u001b[39m     )\n\u001b[32m    358\u001b[39m client = MlflowClient()\n\u001b[32m    359\u001b[39m \u001b[38;5;28;01mif\u001b[39;00m run_id:\n",
      "\u001b[31mException\u001b[39m: Run with UUID 2b84e51245e448f9b8f9cee3fb99d3c1 is already active. To start a new run, first end the current run with mlflow.end_run(). To start a nested run, call start_run with nested=True"
     ]
    }
   ],
   "source": [
    "\n",
    "# Define the model and the hyperparameter grid\n",
    "model = DecisionTreeRegressor(random_state=42)\n",
    "param_grid = {\n",
    "    'max_depth': [5, 10, 15],\n",
    "    'min_samples_split': [2, 10, 20]\n",
    "}\n",
    "# Set up GridSearchCV\n",
    "grid_search = GridSearchCV(estimator=model, param_grid=param_grid, cv=5, scoring='neg_mean_squared_error', verbose=1)\n",
    "# Start an MLFlow run for hyperparameter tuning\n",
    "with mlflow.start_run():\n",
    "    # Perform grid search\n",
    "    grid_search.fit(X_train, y_train)\n",
    "\n",
    "    # Log the best hyperparameters\n",
    "    best_params = grid_search.best_params_\n",
    "    mlflow.log_param(\"best_max_depth\", best_params['max_depth'])\n",
    "    mlflow.log_param(\"best_min_samples_split\", best_params['min_samples_split'])\n",
    "\n",
    "    # Log the best score (cross-validated)\n",
    "    best_score = -grid_search.best_score_  # Convert to positive since we used neg_mean_squared_error\n",
    "    mlflow.log_metric(\"best_cross_val_score\", best_score)\n",
    "\n",
    "    # Log the final model\n",
    "    best_model = grid_search.best_estimator_\n",
    "    mlflow.sklearn.log_model(best_model, \"best_model\")\n",
    "\n",
    "    # Evaluate the model on the test set and log the result\n",
    "    test_predictions = best_model.predict(X_test)\n",
    "    test_rmse = np.sqrt(mean_squared_error(y_test, test_predictions))\n",
    "    mlflow.log_metric(\"test_RMSE\", test_rmse)\n",
    "\n",
    "print(f\"Best Hyperparameters: {best_params}\")\n",
    "print(f\"Test RMSE: {test_rmse}\")"
   ]
  },
  {
   "cell_type": "markdown",
   "id": "7ec1a0bd",
   "metadata": {},
   "source": [
    "## Breaking Down the Code"
   ]
  },
  {
   "cell_type": "code",
   "execution_count": 25,
   "id": "4f1b026e",
   "metadata": {},
   "outputs": [],
   "source": [
    "param_grid = {\n",
    "    'max_depth': [5, 10, 15],\n",
    "    'min_samples_split': [2, 10, 20]\n",
    "}"
   ]
  },
  {
   "cell_type": "markdown",
   "id": "79e8b147",
   "metadata": {},
   "source": [
    "## MLFlow Experiment Tracking:"
   ]
  },
  {
   "cell_type": "code",
   "execution_count": 28,
   "id": "6ae27501",
   "metadata": {},
   "outputs": [
    {
     "data": {
      "text/plain": [
       "'DecisionTreeRegressor'"
      ]
     },
     "execution_count": 28,
     "metadata": {},
     "output_type": "execute_result"
    }
   ],
   "source": [
    "mlflow.log_param(\"param_grid\", str(param_grid))\n",
    "mlflow.log_param(\"model_type\", \"DecisionTreeRegressor\")"
   ]
  },
  {
   "cell_type": "markdown",
   "id": "224a11b8",
   "metadata": {},
   "source": [
    "## Model Logging and Evaluation:"
   ]
  },
  {
   "cell_type": "code",
   "execution_count": 32,
   "id": "ed09bd3e",
   "metadata": {},
   "outputs": [
    {
     "ename": "NameError",
     "evalue": "name 'best_model' is not defined",
     "output_type": "error",
     "traceback": [
      "\u001b[31m---------------------------------------------------------------------------\u001b[39m",
      "\u001b[31mNameError\u001b[39m                                 Traceback (most recent call last)",
      "\u001b[36mCell\u001b[39m\u001b[36m \u001b[39m\u001b[32mIn[32]\u001b[39m\u001b[32m, line 1\u001b[39m\n\u001b[32m----> \u001b[39m\u001b[32m1\u001b[39m mlflow.sklearn.log_model(\u001b[43mbest_model\u001b[49m, \u001b[33m\"\u001b[39m\u001b[33mbest_model\u001b[39m\u001b[33m\"\u001b[39m)\n\u001b[32m      2\u001b[39m mlflow.log_metric(\u001b[33m\"\u001b[39m\u001b[33mtest_RMSE\u001b[39m\u001b[33m\"\u001b[39m, test_rmse)\n",
      "\u001b[31mNameError\u001b[39m: name 'best_model' is not defined"
     ]
    }
   ],
   "source": [
    "mlflow.sklearn.log_model(best_model, \"best_model\")\n",
    "mlflow.log_metric(\"test_RMSE\", test_rmse)"
   ]
  }
 ],
 "metadata": {
  "colab": {
   "provenance": []
  },
  "kernelspec": {
   "display_name": "env",
   "language": "python",
   "name": "python3"
  },
  "language_info": {
   "codemirror_mode": {
    "name": "ipython",
    "version": 3
   },
   "file_extension": ".py",
   "mimetype": "text/x-python",
   "name": "python",
   "nbconvert_exporter": "python",
   "pygments_lexer": "ipython3",
   "version": "3.13.2"
  }
 },
 "nbformat": 4,
 "nbformat_minor": 5
}
